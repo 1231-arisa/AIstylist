{
 "cells": [
  {
   "cell_type": "code",
   "execution_count": null,
   "id": "ae56a508-f73a-420e-852d-1a11efe88af2",
   "metadata": {},
   "outputs": [
    {
     "name": "stderr",
     "output_type": "stream",
     "text": [
      "Loading pipeline components...: 100%|█████████████████| 7/7 [00:00<00:00, 10.67it/s]\n",
      "  4%|█▉                                              | 2/50 [00:13<05:12,  6.52s/it]"
     ]
    }
   ],
   "source": [
    "import torch\n",
    "from diffusers import StableDiffusionPipeline\n",
    "from PIL import Image\n",
    "\n",
    "# Load Stable Diffusion model for illustration-style transformation\n",
    "pipeline = StableDiffusionPipeline.from_pretrained(\"runwayml/stable-diffusion-v1-5\")\n",
    "\n",
    "# Apply anime-style transformation to clothing image\n",
    "styled_clothing = pipeline(prompt=\"anime style illustration, soft shading, clean lines\")\n",
    "styled_clothing.images[0].save(\"avatar_style_clothing.png\")\n",
    "\n",
    "\n",
    "styled_clothing.images[0].save(\"avatar_style_clothing.png\")\n",
    "\n",
    "\n",
    "# Merge the styled clothing onto the avatar image\n",
    "avatar = Image.open(\"avatar.png\").convert(\"RGBA\")\n",
    "clothing = Image.open(\"avatar_style_clothing.png\").convert(\"RGBA\")\n",
    "\n",
    "# Overlay clothing onto avatar and adjust position\n",
    "avatar.paste(clothing, (50, 100), clothing)\n",
    "avatar.save(\"final_styled_avatar.png\")\n",
    "\n",
    "print(\"🎨 AI-generated illustrated outfit applied to avatar successfully!\")\n"
   ]
  },
  {
   "cell_type": "code",
   "execution_count": null,
   "id": "cc10f22f-461e-466f-88fe-a12ef52c18c7",
   "metadata": {},
   "outputs": [],
   "source": []
  },
  {
   "cell_type": "code",
   "execution_count": null,
   "id": "034ad509-444d-4c00-828e-79d5e9fd4beb",
   "metadata": {},
   "outputs": [],
   "source": []
  }
 ],
 "metadata": {
  "kernelspec": {
   "display_name": "Python 3 (ipykernel)",
   "language": "python",
   "name": "python3"
  },
  "language_info": {
   "codemirror_mode": {
    "name": "ipython",
    "version": 3
   },
   "file_extension": ".py",
   "mimetype": "text/x-python",
   "name": "python",
   "nbconvert_exporter": "python",
   "pygments_lexer": "ipython3",
   "version": "3.11.9"
  }
 },
 "nbformat": 4,
 "nbformat_minor": 5
}
